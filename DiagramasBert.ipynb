{
  "nbformat": 4,
  "nbformat_minor": 0,
  "metadata": {
    "colab": {
      "provenance": [],
      "gpuType": "T4"
    },
    "kernelspec": {
      "name": "python3",
      "display_name": "Python 3"
    },
    "language_info": {
      "name": "python"
    },
    "accelerator": "GPU"
  },
  "cells": [
    {
      "cell_type": "code",
      "execution_count": 1,
      "metadata": {
        "colab": {
          "base_uri": "https://localhost:8080/"
        },
        "id": "PVg0H1Ru42hx",
        "outputId": "8545ff95-b89d-47df-86e9-2eb0b2693da6"
      },
      "outputs": [
        {
          "output_type": "stream",
          "name": "stdout",
          "text": [
            "  Preparing metadata (setup.py) ... \u001b[?25l\u001b[?25hdone\n",
            "  Building wheel for torchviz (setup.py) ... \u001b[?25l\u001b[?25hdone\n"
          ]
        }
      ],
      "source": [
        "!pip install transformers -q\n",
        "!pip install torchview -q\n",
        "!pip install torchviz -q"
      ]
    },
    {
      "cell_type": "code",
      "source": [
        "import torch\n",
        "from torchviz import make_dot\n",
        "from transformers import AutoModel, AutoTokenizer\n",
        "import torch.nn as nn\n",
        "\n",
        "# Definir el modelo FineTuningBERT\n",
        "class FineTuningBERT(nn.Module):\n",
        "    def __init__(self, bert):\n",
        "        super(FineTuningBERT, self).__init__()\n",
        "        self.bert = bert\n",
        "        self.dropout = nn.Dropout(p=0.2)\n",
        "        self.fc1 = nn.Linear(768, 64)\n",
        "        self.ReLu = nn.ReLU()\n",
        "        self.fc2 = nn.Linear(64, 93)  # Ajustar el número de clases\n",
        "\n",
        "    def forward(self, sent_id, mask):\n",
        "        outputs = self.bert(sent_id, attention_mask=mask)\n",
        "        cls_hs = outputs['pooler_output']\n",
        "\n",
        "        x = self.dropout(cls_hs)\n",
        "        x = self.fc1(x)\n",
        "        x = torch.nn.ReLU()(x)\n",
        "        x = self.fc2(x)\n",
        "        return x\n",
        "\n",
        "# Cargar el modelo BERT base y tokenizer\n",
        "bert_model = AutoModel.from_pretrained('dccuchile/bert-base-spanish-wwm-cased')\n",
        "tokenizer = AutoTokenizer.from_pretrained('dccuchile/bert-base-spanish-wwm-cased')\n",
        "\n",
        "# Instantiate tu modelo fine-tuned BERT_Arch\n",
        "model = FineTuningBERT(bert_model)\n",
        "\n",
        "# Push el modelo a la GPU si está disponible\n",
        "device = torch.device(\"cuda\" if torch.cuda.is_available() else \"cpu\")\n",
        "model = model.to(device)\n",
        "\n",
        "# Crear datos de ejemplo para la visualización\n",
        "input_text = \"cuales son los nombres de las lunas de urano\"\n",
        "input_ids = tokenizer.encode(input_text, return_tensors='pt').to(device)\n",
        "attention_mask = input_ids != tokenizer.pad_token_id\n",
        "\n",
        "# Generar la visualización del modelo\n",
        "dummy_output = model(input_ids, attention_mask)\n",
        "model_graph = make_dot(dummy_output, params=dict(model.named_parameters()), show_attrs=False, show_saved=False)\n",
        "model_graph.render('Fine-tuning-BERT', format='png', cleanup=True)\n"
      ],
      "metadata": {
        "colab": {
          "base_uri": "https://localhost:8080/",
          "height": 90
        },
        "id": "d0ivXIt_5TmN",
        "outputId": "d3e8c3f6-1e1c-4bc4-925a-70eb2a9a97bc"
      },
      "execution_count": 18,
      "outputs": [
        {
          "output_type": "stream",
          "name": "stderr",
          "text": [
            "Some weights of BertModel were not initialized from the model checkpoint at dccuchile/bert-base-spanish-wwm-cased and are newly initialized: ['bert.pooler.dense.bias', 'bert.pooler.dense.weight']\n",
            "You should probably TRAIN this model on a down-stream task to be able to use it for predictions and inference.\n"
          ]
        },
        {
          "output_type": "execute_result",
          "data": {
            "text/plain": [
              "'Fine-tuning-BERT.png'"
            ],
            "application/vnd.google.colaboratory.intrinsic+json": {
              "type": "string"
            }
          },
          "metadata": {},
          "execution_count": 18
        }
      ]
    },
    {
      "cell_type": "code",
      "source": [
        "import torch\n",
        "from torchviz import make_dot\n",
        "from transformers import AutoTokenizer\n",
        "import torch.nn as nn\n",
        "\n",
        "# Inicializar el tokenizador\n",
        "tokenizer = AutoTokenizer.from_pretrained('dccuchile/bert-base-spanish-wwm-cased')\n",
        "\n",
        "\n",
        "# Definir solo la capa FineTuningBERT\n",
        "class FineTuningBERT(nn.Module):\n",
        "    def __init__(self):\n",
        "        super(FineTuningBERT, self).__init__()\n",
        "        self.dropout = nn.Dropout(p=0.2)\n",
        "        self.fc1 = nn.Linear(768, 64)\n",
        "        self.ReLu = nn.ReLU()\n",
        "        self.fc2 = nn.Linear(64, 93)  # Ajustar el número de clases\n",
        "\n",
        "    def forward(self, x):\n",
        "        x = self.dropout(x)\n",
        "        x = self.fc1(x)\n",
        "        x = torch.nn.ReLU()(x)\n",
        "        x = self.fc2(x)\n",
        "        return x\n",
        "\n",
        "# Crear una entrada simulada\n",
        "dummy_input = torch.randn(1, 768)  # Tamaño de entrada similar a BERT\n",
        "\n",
        "# Instanciar tu modelo FineTuningBERT\n",
        "model1 = FineTuningBERT()\n",
        "\n",
        "# Generar la visualización del modelo\n",
        "dummy_output = model1(dummy_input)\n",
        "model_graph = make_dot(dummy_output, params=dict(model1.named_parameters()), show_attrs=False, show_saved=False)\n",
        "model_graph.render('Fine-tuning_only', format='png', cleanup=True)\n"
      ],
      "metadata": {
        "colab": {
          "base_uri": "https://localhost:8080/",
          "height": 35
        },
        "id": "sWdIhwF07lwl",
        "outputId": "abb35682-36be-4fbe-d995-596e48167029"
      },
      "execution_count": 25,
      "outputs": [
        {
          "output_type": "execute_result",
          "data": {
            "text/plain": [
              "'Fine-tuning_only.png'"
            ],
            "application/vnd.google.colaboratory.intrinsic+json": {
              "type": "string"
            }
          },
          "metadata": {},
          "execution_count": 25
        }
      ]
    }
  ]
}